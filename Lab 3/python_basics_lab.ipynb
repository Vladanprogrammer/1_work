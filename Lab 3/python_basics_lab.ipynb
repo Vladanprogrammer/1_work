{
 "cells": [
  {
   "cell_type": "markdown",
   "id": "91ee0f91",
   "metadata": {},
   "source": [
    "## Звіт до роботи"
   ]
  },
  {
   "cell_type": "markdown",
   "id": "2971d380",
   "metadata": {},
   "source": [
    "## Тема: Вивчаємо основи Python "
   ]
  },
  {
   "cell_type": "markdown",
   "id": "6c2b423d",
   "metadata": {},
   "source": [
    "## Мета: Навчитись працювати з тимапи, функціями, циклами і тд "
   ]
  },
  {
   "cell_type": "markdown",
   "id": "48c7da07",
   "metadata": {},
   "source": [
    "## Виконання роботи"
   ]
  },
  {
   "cell_type": "markdown",
   "id": "aa518853",
   "metadata": {},
   "source": [
    "###  1. Змінні різних типів"
   ]
  },
  {
   "cell_type": "code",
   "execution_count": null,
   "id": "7bb37f86",
   "metadata": {},
   "outputs": [],
   "source": [
    "\n",
    "x = \"Привіт, світ!\"          \n",
    "y = 10                       \n",
    "z = 2.5                      \n",
    "list1 = [x, y, z, \"Python\"]  \n",
    "dict1 = {\"ключ\": \"значення\", \"число\": y, x: z}  \n",
    "tuple1 = (y, \"tuple\")        \n",
    "set1 = {\"яблуко\", x}         \n",
    "\n",
    "print(x)\n",
    "print(list1)\n",
    "print(dict1)\n"
   ]
  },
  {
   "cell_type": "markdown",
   "id": "06250e8f",
   "metadata": {},
   "source": [
    "###  2. Вбудовані константи та зарезервовані слова"
   ]
  },
  {
   "cell_type": "code",
   "execution_count": null,
   "id": "a70d7002",
   "metadata": {},
   "outputs": [],
   "source": [
    "\n",
    "print(\"Константа №1:\", True)\n",
    "print(\"Константа №2:\", False)\n",
    "print(\"Константа №3:\", None)\n",
    "\n",
    "import sys\n",
    "help(\"keywords\")\n"
   ]
  },
  {
   "cell_type": "markdown",
   "id": "c2184fa3",
   "metadata": {},
   "source": [
    "###  3. Вбудовані функції"
   ]
  },
  {
   "cell_type": "code",
   "execution_count": null,
   "id": "dcf0ec1b",
   "metadata": {},
   "outputs": [],
   "source": [
    "\n",
    "print(abs(-7), \"— модуль числа\")\n",
    "print(len(\"Python\"), \"— довжина слова 'Python'\")\n",
    "print(sum([1, 2, 3]), \"— сума елементів списку\")\n"
   ]
  },
  {
   "cell_type": "markdown",
   "id": "69c18b8f",
   "metadata": {},
   "source": [
    "###  4. Цикли (for, while, for-else)"
   ]
  },
  {
   "cell_type": "code",
   "execution_count": null,
   "id": "64f72281",
   "metadata": {},
   "outputs": [],
   "source": [
    "\n",
    "# for\n",
    "numbers = [1, 2, 3]\n",
    "for num in numbers:\n",
    "    print(\"Число:\", num)\n",
    "else:\n",
    "    print(\"Цикл for завершено.\")\n",
    "\n",
    "# while\n",
    "count = 0\n",
    "while count < 3:\n",
    "    print(\"Рахунок:\", count)\n",
    "    count += 1\n",
    "print(\"Цикл while завершено.\")\n"
   ]
  },
  {
   "cell_type": "markdown",
   "id": "623b7c78",
   "metadata": {},
   "source": [
    "###  5. Розгалуження"
   ]
  },
  {
   "cell_type": "code",
   "execution_count": null,
   "id": "00ee475f",
   "metadata": {},
   "outputs": [],
   "source": [
    "\n",
    "from random import randint\n",
    "\n",
    "n = randint(-1, 1)\n",
    "if n > 0:\n",
    "    print(\"Додатне число\")\n",
    "elif n == 0:\n",
    "    print(\"Нуль\")\n",
    "else:\n",
    "    print(\"Від’ємне число\")\n"
   ]
  },
  {
   "cell_type": "markdown",
   "id": "ad39ada9",
   "metadata": {},
   "source": [
    "###  6. Конструкція try → except → finally"
   ]
  },
  {
   "cell_type": "code",
   "execution_count": null,
   "id": "7b425753",
   "metadata": {},
   "outputs": [],
   "source": [
    "\n",
    "try:\n",
    "    a = 5 / 0\n",
    "except Exception as e:\n",
    "    print(\"Помилка:\", e)\n",
    "finally:\n",
    "    print(\"Блок finally спрацював\")\n"
   ]
  },
  {
   "cell_type": "markdown",
   "id": "58a52375",
   "metadata": {},
   "source": [
    "###  7. Контекст-менеджер with"
   ]
  },
  {
   "cell_type": "code",
   "execution_count": null,
   "id": "2e68a6a7",
   "metadata": {},
   "outputs": [],
   "source": [
    "\n",
    "with open(\"test.txt\", \"w\") as f:\n",
    "    f.write(\"Це приклад запису у файл.\\n\")\n",
    "\n",
    "with open(\"test.txt\", \"r\") as f:\n",
    "    for line in f:\n",
    "        print(\"Прочитано:\", line.strip())\n"
   ]
  },
  {
   "cell_type": "markdown",
   "id": "365c36c5",
   "metadata": {},
   "source": [
    "###  8. Lambda-функції"
   ]
  },
  {
   "cell_type": "code",
   "execution_count": null,
   "id": "e6247310",
   "metadata": {},
   "outputs": [],
   "source": [
    "\n",
    "def add(a, b):\n",
    "    return a + b\n",
    "\n",
    "add_lambda = lambda a, b: a + b\n",
    "\n",
    "print(\"Результат функції:\", add(2, 3))\n",
    "print(\"Результат лямбди:\", add_lambda(2, 3))\n"
   ]
  },
  {
   "cell_type": "markdown",
   "id": "e77c8339",
   "metadata": {},
   "source": [
    "###  9. Відповідь АІ про основи Python у Jupyter Notebook"
   ]
  },
  {
   "cell_type": "markdown",
   "id": "7ba11fa5",
   "metadata": {},
   "source": [
    "\n",
    "**Промпт:**  \n",
    "\"Я вивчаю Python у Jupyter Notebook. Поясни коротко основи мови.\"\n",
    "\n",
    "**Відповідь АІ:**  \n",
    "Python — це мова програмування, яка має простий синтаксис і читається як звичайна англійська.  \n",
    "У Jupyter Notebook зручно писати код у клітинках і бачити результат відразу.  \n",
    "\n",
    "🔹 Основні типи даних: `int`, `float`, `str`, `bool`, `list`, `dict`, `tuple`, `set`.  \n",
    "🔹 Приклад:\n",
    "```python\n",
    "name = \"Python\"\n",
    "print(\"Вітаю у світі\", name)\n",
    "```\n",
    "🔹 Цикл:\n",
    "```python\n",
    "for i in range(3):\n",
    "    print(\"Ітерація:\", i)\n",
    "```\n",
    "🔹 Функція:\n",
    "```python\n",
    "def greet(user):\n",
    "    return f\"Привіт, {user}!\"\n",
    "print(greet(\"Влад\"))\n",
    "```\n",
    "Python підходить для навчання, аналізу даних, веброзробки та штучного інтелекту.\n"
   ]
  },
  {
   "cell_type": "markdown",
   "id": "488d60f7",
   "metadata": {},
   "source": [
    "## Висновок: Навчились працювати з типами, функціями, циклами, розгалуженням і з конструкторами. Всі завдання вдалося виконати "
   ]
  }
 ],
 "metadata": {
  "language_info": {
   "name": "python"
  }
 },
 "nbformat": 4,
 "nbformat_minor": 5
}
